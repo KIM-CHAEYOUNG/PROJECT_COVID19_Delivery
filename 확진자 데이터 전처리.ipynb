{
 "cells": [
  {
   "cell_type": "code",
   "execution_count": 1,
   "metadata": {},
   "outputs": [
    {
     "name": "stdout",
     "output_type": "stream",
     "text": [
      "3.8.3 (default, Jul  2 2020, 17:30:36) [MSC v.1916 64 bit (AMD64)]\n"
     ]
    }
   ],
   "source": [
    "import sys\n",
    "print(sys.version)"
   ]
  },
  {
   "cell_type": "code",
   "execution_count": 3,
   "metadata": {},
   "outputs": [],
   "source": [
    "import pandas as pd\n",
    "import datetime\n",
    "import numpy as np"
   ]
  },
  {
   "cell_type": "code",
   "execution_count": 4,
   "metadata": {},
   "outputs": [],
   "source": [
    "df_patient=pd.read_csv('C:/Users/lg/Desktop/COVID_19/PatientInfo.csv', dtype={'patient_id':str, 'infected_by':str})"
   ]
  },
  {
   "cell_type": "code",
   "execution_count": 10,
   "metadata": {},
   "outputs": [],
   "source": [
    "# 지역 이름 수정\n",
    "def fix_region(row):\n",
    "    fixdic = {\n",
    "        ('경기도','구리'):('경기도','구리시'),\n",
    "        ('경기도','수원'):('경기도','수원시'),\n",
    "        ('경기도','양평시'):('경기도','양평'),\n",
    "        ('대구','경산시'):('경상북도','경산시'),\n",
    "        ('대구','달성군'):('대구','달성'),\n",
    "        ('대구','상곡 동'):('대구','대구'),\n",
    "        ('대구','영천시'):('경상북도','영천시'),\n",
    "        ('대구','이천동'):('대구','남구'),\n",
    "        ('대전','세종'):('세종','세종'),\n",
    "        ('전라남도','경산시'):('경상북도','경산시'),\n",
    "        ('경상남도','하만'):('경상남도','함안군'),\n",
    "        ('서울','동구 구'):('서울','동작구'),\n",
    "        ('인천','미추홀 구'):('인천','미추홀구'),\n",
    "        ('전라북도','지난'):('전라북도','진안군'),\n",
    "        ('전라남도','시난'):('전라남도','신안군')}\n",
    "    if (row.province, row.city) in fixdic.keys():\n",
    "        row.province, row.city = fixdic[(row.province, row.city)]\n",
    "    if (row.province == row.city) or (row.city=='기타'):\n",
    "        row.city = np.nan\n",
    "    return row\n",
    "df_patient = df_patient.apply(fix_region, axis=1)"
   ]
  },
  {
   "cell_type": "code",
   "execution_count": 5,
   "metadata": {},
   "outputs": [],
   "source": [
    "#확진자의 확진일 결측치 \n",
    "df_patient = df_patient.query('confirmed_date==confirmed_date')"
   ]
  },
  {
   "cell_type": "code",
   "execution_count": 7,
   "metadata": {},
   "outputs": [],
   "source": [
    "df_patient['confirmed_dt']=df_patient['confirmed_date'].apply(lambda x:datetime.datetime.fromisoformat(x))"
   ]
  },
  {
   "cell_type": "code",
   "execution_count": 11,
   "metadata": {},
   "outputs": [],
   "source": [
    "min_date=df_patient['confirmed_dt'].min()\n",
    "max_date=df_patient['confirmed_dt'].max()"
   ]
  },
  {
   "cell_type": "code",
   "execution_count": 12,
   "metadata": {},
   "outputs": [],
   "source": [
    "date_range=list(pd.date_range(start=min_date, end=max_date))"
   ]
  },
  {
   "cell_type": "code",
   "execution_count": 14,
   "metadata": {},
   "outputs": [],
   "source": [
    "df_dummy_date=pd.DataFrame.from_dict({'patiend_id':[-1]*len(date_range),\\\n",
    "                                     'province':['dummy_prov']*len(date_range),\\\n",
    "                                     'city':['dummy_city']*len(date_range),\n",
    "                                     'confirmed_dt':date_range})"
   ]
  },
  {
   "cell_type": "code",
   "execution_count": 15,
   "metadata": {},
   "outputs": [],
   "source": [
    "df_patient=df_patient.append(df_dummy_date)"
   ]
  },
  {
   "cell_type": "code",
   "execution_count": 16,
   "metadata": {},
   "outputs": [],
   "source": [
    "df_patient['valid']=df_patient['patient_id'].apply(lambda x: 1 if isinstance(x,str) else 0)"
   ]
  },
  {
   "cell_type": "code",
   "execution_count": 17,
   "metadata": {},
   "outputs": [
    {
     "data": {
      "text/html": [
       "<div>\n",
       "<style scoped>\n",
       "    .dataframe tbody tr th:only-of-type {\n",
       "        vertical-align: middle;\n",
       "    }\n",
       "\n",
       "    .dataframe tbody tr th {\n",
       "        vertical-align: top;\n",
       "    }\n",
       "\n",
       "    .dataframe thead th {\n",
       "        text-align: right;\n",
       "    }\n",
       "</style>\n",
       "<table border=\"1\" class=\"dataframe\">\n",
       "  <thead>\n",
       "    <tr style=\"text-align: right;\">\n",
       "      <th></th>\n",
       "      <th>patient_id</th>\n",
       "      <th>sex</th>\n",
       "      <th>age</th>\n",
       "      <th>country</th>\n",
       "      <th>province</th>\n",
       "      <th>city</th>\n",
       "      <th>infection_case</th>\n",
       "      <th>infected_by</th>\n",
       "      <th>contact_number</th>\n",
       "      <th>symptom_onset_date</th>\n",
       "      <th>confirmed_date</th>\n",
       "      <th>released_date</th>\n",
       "      <th>deceased_date</th>\n",
       "      <th>state</th>\n",
       "      <th>confirmed_dt</th>\n",
       "      <th>patiend_id</th>\n",
       "      <th>valid</th>\n",
       "    </tr>\n",
       "  </thead>\n",
       "  <tbody>\n",
       "    <tr>\n",
       "      <th>0</th>\n",
       "      <td>1000000001</td>\n",
       "      <td>male</td>\n",
       "      <td>50s</td>\n",
       "      <td>Korea</td>\n",
       "      <td>서울</td>\n",
       "      <td>강서구</td>\n",
       "      <td>overseas inflow</td>\n",
       "      <td>NaN</td>\n",
       "      <td>75</td>\n",
       "      <td>2020-01-22</td>\n",
       "      <td>2020-01-23</td>\n",
       "      <td>2020-02-05</td>\n",
       "      <td>NaN</td>\n",
       "      <td>released</td>\n",
       "      <td>2020-01-23</td>\n",
       "      <td>NaN</td>\n",
       "      <td>1</td>\n",
       "    </tr>\n",
       "    <tr>\n",
       "      <th>1</th>\n",
       "      <td>1000000002</td>\n",
       "      <td>male</td>\n",
       "      <td>30s</td>\n",
       "      <td>Korea</td>\n",
       "      <td>서울</td>\n",
       "      <td>중랑구</td>\n",
       "      <td>overseas inflow</td>\n",
       "      <td>NaN</td>\n",
       "      <td>31</td>\n",
       "      <td>NaN</td>\n",
       "      <td>2020-01-30</td>\n",
       "      <td>2020-03-02</td>\n",
       "      <td>NaN</td>\n",
       "      <td>released</td>\n",
       "      <td>2020-01-30</td>\n",
       "      <td>NaN</td>\n",
       "      <td>1</td>\n",
       "    </tr>\n",
       "    <tr>\n",
       "      <th>2</th>\n",
       "      <td>1000000003</td>\n",
       "      <td>male</td>\n",
       "      <td>50s</td>\n",
       "      <td>Korea</td>\n",
       "      <td>서울</td>\n",
       "      <td>종로구</td>\n",
       "      <td>contact with patient</td>\n",
       "      <td>2002000001</td>\n",
       "      <td>17</td>\n",
       "      <td>NaN</td>\n",
       "      <td>2020-01-30</td>\n",
       "      <td>2020-02-19</td>\n",
       "      <td>NaN</td>\n",
       "      <td>released</td>\n",
       "      <td>2020-01-30</td>\n",
       "      <td>NaN</td>\n",
       "      <td>1</td>\n",
       "    </tr>\n",
       "    <tr>\n",
       "      <th>3</th>\n",
       "      <td>1000000004</td>\n",
       "      <td>male</td>\n",
       "      <td>20s</td>\n",
       "      <td>Korea</td>\n",
       "      <td>서울</td>\n",
       "      <td>마포구</td>\n",
       "      <td>overseas inflow</td>\n",
       "      <td>NaN</td>\n",
       "      <td>9</td>\n",
       "      <td>2020-01-26</td>\n",
       "      <td>2020-01-30</td>\n",
       "      <td>2020-02-15</td>\n",
       "      <td>NaN</td>\n",
       "      <td>released</td>\n",
       "      <td>2020-01-30</td>\n",
       "      <td>NaN</td>\n",
       "      <td>1</td>\n",
       "    </tr>\n",
       "    <tr>\n",
       "      <th>4</th>\n",
       "      <td>1000000005</td>\n",
       "      <td>female</td>\n",
       "      <td>20s</td>\n",
       "      <td>Korea</td>\n",
       "      <td>서울</td>\n",
       "      <td>성북구</td>\n",
       "      <td>contact with patient</td>\n",
       "      <td>1000000002</td>\n",
       "      <td>2</td>\n",
       "      <td>NaN</td>\n",
       "      <td>2020-01-31</td>\n",
       "      <td>2020-02-24</td>\n",
       "      <td>NaN</td>\n",
       "      <td>released</td>\n",
       "      <td>2020-01-31</td>\n",
       "      <td>NaN</td>\n",
       "      <td>1</td>\n",
       "    </tr>\n",
       "  </tbody>\n",
       "</table>\n",
       "</div>"
      ],
      "text/plain": [
       "   patient_id     sex  age country province city        infection_case  \\\n",
       "0  1000000001    male  50s   Korea       서울  강서구       overseas inflow   \n",
       "1  1000000002    male  30s   Korea       서울  중랑구       overseas inflow   \n",
       "2  1000000003    male  50s   Korea       서울  종로구  contact with patient   \n",
       "3  1000000004    male  20s   Korea       서울  마포구       overseas inflow   \n",
       "4  1000000005  female  20s   Korea       서울  성북구  contact with patient   \n",
       "\n",
       "  infected_by contact_number symptom_onset_date confirmed_date released_date  \\\n",
       "0         NaN             75         2020-01-22     2020-01-23    2020-02-05   \n",
       "1         NaN             31                NaN     2020-01-30    2020-03-02   \n",
       "2  2002000001             17                NaN     2020-01-30    2020-02-19   \n",
       "3         NaN              9         2020-01-26     2020-01-30    2020-02-15   \n",
       "4  1000000002              2                NaN     2020-01-31    2020-02-24   \n",
       "\n",
       "  deceased_date     state confirmed_dt  patiend_id  valid  \n",
       "0           NaN  released   2020-01-23         NaN      1  \n",
       "1           NaN  released   2020-01-30         NaN      1  \n",
       "2           NaN  released   2020-01-30         NaN      1  \n",
       "3           NaN  released   2020-01-30         NaN      1  \n",
       "4           NaN  released   2020-01-31         NaN      1  "
      ]
     },
     "execution_count": 17,
     "metadata": {},
     "output_type": "execute_result"
    }
   ],
   "source": [
    "df_patient[]"
   ]
  },
  {
   "cell_type": "code",
   "execution_count": 18,
   "metadata": {},
   "outputs": [],
   "source": [
    "df_patient.to_csv('C:/Users/lg/Desktop/COVID_19/patientinfo.csv')"
   ]
  },
  {
   "cell_type": "code",
   "execution_count": null,
   "metadata": {},
   "outputs": [],
   "source": []
  }
 ],
 "metadata": {
  "kernelspec": {
   "display_name": "Python 3",
   "language": "python",
   "name": "python3"
  },
  "language_info": {
   "codemirror_mode": {
    "name": "ipython",
    "version": 3
   },
   "file_extension": ".py",
   "mimetype": "text/x-python",
   "name": "python",
   "nbconvert_exporter": "python",
   "pygments_lexer": "ipython3",
   "version": "3.8.3"
  }
 },
 "nbformat": 4,
 "nbformat_minor": 4
}
